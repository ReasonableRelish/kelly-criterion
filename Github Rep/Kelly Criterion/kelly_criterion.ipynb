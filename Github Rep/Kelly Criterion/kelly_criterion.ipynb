{
 "cells": [
  {
   "cell_type": "markdown",
   "metadata": {},
   "source": [
    "# Improting all the libraries\n"
   ]
  },
  {
   "cell_type": "code",
   "execution_count": null,
   "metadata": {},
   "outputs": [],
   "source": [
    "import pandas as pd\n",
    "import numpy as np\n",
    "import matplotlib.pyplot as plt\n",
    "import decimal as d"
   ]
  },
  {
   "cell_type": "markdown",
   "metadata": {},
   "source": [
    "# Kelly Criterion Function\n",
    "\n",
    "This formula is based on the write up by Alon Bochman. It can be found here:\n",
    "\n",
    "https://blogs.cfainstitute.org/investor/2018/06/14/the-kelly-criterion-you-dont-know-the-half-of-it/\n",
    "\n",
    "A TLDR for the article, often when people talk about the Kelly Criterion they mistakenly use the simplified formula Kelly % = edge/odds. However, for markets this often isn't the proper formula to use. This is because it doesn't consider the possibility of a downside case that is not 100% permeant loss of capital. \n",
    "\n",
    "The correct formula to use is:\n",
    "Kelly % = W/A – (1 – W)/B\n",
    "\n",
    "Note: Interestingly, Mohnish Pabrai said that he shouldn't have included the Kelly Criterion in his book because you are making one off bets and not 5000 coin tosses."
   ]
  },
  {
   "cell_type": "code",
   "execution_count": null,
   "metadata": {},
   "outputs": [],
   "source": [
    "def kelly(Per,P,L):\n",
    "\n",
    "    Per=d.Decimal(Per).quantize(d.Decimal('1.000'))\n",
    "    P=d.Decimal(P).quantize(d.Decimal('1.000'))\n",
    "    L=d.Decimal(L).quantize(d.Decimal('1.000'))\n",
    "    \n",
    "    \n",
    "    opt= (Per/L)-((1-Per)/P)\n",
    "    return opt\n",
    "\n"
   ]
  },
  {
   "cell_type": "markdown",
   "metadata": {},
   "source": [
    "# Using The Kelly Function\n",
    "\n",
    "Here is an example on how to use it\n",
    "\n",
    "a=kelly(0.6,0.2,0.2)\n",
    "\n",
    "First variable is the % odds of profit. Between 0-1, goes to max 3 dp\n",
    "\n",
    "Second variable is the profit if the bet is correct. Can be any positive number. Note this is 1+Profit would be the percentage amount gain.\n",
    "\n",
    "Third variable is the loss during event in percentage. Can be any positive number. Note this is 1-Loss is the loss for your portfolio."
   ]
  },
  {
   "cell_type": "code",
   "execution_count": null,
   "metadata": {},
   "outputs": [],
   "source": [
    "PercentageOfOdds = 0.6\n",
    "\n",
    "Profit = 0.8\n",
    "\n",
    "Loss = 0.5\n",
    "\n"
   ]
  },
  {
   "cell_type": "code",
   "execution_count": null,
   "metadata": {},
   "outputs": [],
   "source": [
    "#Betting percentage for the differnet scenarios\n",
    "\n",
    "a = kelly(PercentageOfOdds,Profit,Loss)\n",
    "\n",
    "b = a/2 # Half Kelly\n",
    "\n",
    "c = a*2 # Double Kelly\n",
    "\n"
   ]
  },
  {
   "cell_type": "markdown",
   "metadata": {},
   "source": [
    "# Creating the monte carlo simulation with the for statements\n",
    "\n",
    "Saving all results in a list before changing it to a dataframe"
   ]
  },
  {
   "cell_type": "code",
   "execution_count": null,
   "metadata": {},
   "outputs": [],
   "source": [
    "\n",
    "#Starting capital\n",
    "amtf=d.Decimal('1')\n",
    "amth=d.Decimal('1')\n",
    "amtd=d.Decimal('1')\n",
    "\n",
    "\n",
    "\n",
    "#changing the profit and loss float numbers to decimal\n",
    "P=d.Decimal(Profit).quantize(d.Decimal('1.000'))\n",
    "L=d.Decimal(Loss).quantize(d.Decimal('1.000'))\n",
    "\n",
    "# List to store the simulations\n",
    "fullk=[]\n",
    "halfk=[]\n",
    "doubk=[]\n",
    "\n",
    "# Simulating the different senarios\n",
    "\n",
    "for i in range(5000):\n",
    "    r=np.random.random()\n",
    "\n",
    "    # if the the bet is in your favour\n",
    "\n",
    "    if(r<PercentageOfOdds):\n",
    "        amtf = amtf+amtf*P*a\n",
    "        amth = amth+amth*P*b\n",
    "        amtd = amtd+amtd*P*c\n",
    "\n",
    "\n",
    "        fullk.append(amtf)\n",
    "        halfk.append(amth)\n",
    "        doubk.append(amtd)\n",
    "\n",
    "\n",
    "    # If you loss the bet\n",
    "\n",
    "    else:\n",
    "        amtf = amtf-amtf*L*a\n",
    "        amth = amth-amth*L*b\n",
    "        amtd = amtd-amtd*L*c\n",
    "\n",
    "\n",
    "        fullk.append(amtf)\n",
    "        halfk.append(amth)\n",
    "        doubk.append(amtd)\n",
    "\n"
   ]
  },
  {
   "cell_type": "code",
   "execution_count": null,
   "metadata": {},
   "outputs": [],
   "source": [
    "df1=pd.DataFrame(fullk, columns = ['Full Kelly'], dtype=float)\n",
    "df2=pd.DataFrame(halfk, columns = ['Half Kelly'], dtype=float)\n",
    "df3=pd.DataFrame(doubk, columns = ['Double Kelly'], dtype=float)"
   ]
  },
  {
   "cell_type": "code",
   "execution_count": null,
   "metadata": {},
   "outputs": [],
   "source": [
    "results = pd.concat([df1, df2,df3], axis=1)\n",
    "results"
   ]
  },
  {
   "cell_type": "markdown",
   "metadata": {},
   "source": [
    "# Plotting the results in log scale"
   ]
  },
  {
   "cell_type": "code",
   "execution_count": null,
   "metadata": {},
   "outputs": [],
   "source": [
    "results.plot()\n",
    "\n",
    "plt.yscale(\"log\")"
   ]
  }
 ],
 "metadata": {
  "interpreter": {
   "hash": "ad58d8a57582352f2ddcf4d6d35c06eb7c175bff4bda56613cb289af3103311a"
  },
  "kernelspec": {
   "display_name": "Python 3.9.9 64-bit (windows store)",
   "name": "python3"
  },
  "language_info": {
   "codemirror_mode": {
    "name": "ipython",
    "version": 3
   },
   "file_extension": ".py",
   "mimetype": "text/x-python",
   "name": "python",
   "nbconvert_exporter": "python",
   "pygments_lexer": "ipython3",
   "version": "3.9.9"
  },
  "orig_nbformat": 4
 },
 "nbformat": 4,
 "nbformat_minor": 2
}
